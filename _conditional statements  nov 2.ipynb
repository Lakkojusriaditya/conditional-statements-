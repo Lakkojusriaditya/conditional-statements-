{
 "cells": [
  {
   "cell_type": "markdown",
   "id": "767a8da9",
   "metadata": {},
   "source": [
    "# conditional statements"
   ]
  },
  {
   "cell_type": "markdown",
   "id": "7c1d1e5a",
   "metadata": {},
   "source": [
    "conditional statements-\n",
    "\n",
    "There are four types of conditional statements are present they are:\n",
    "          1.if statement\n",
    "          2.nested-if statement\n",
    "          3.if-else statement\n",
    "          4.if-elif-else statement\n",
    " these are used to make decision in the code. allows users to execute the code in set of instructions where they are true or false.if the condition is true it executes and goes to next line,if it is not true it exit the entire block of th code\n",
    "          "
   ]
  },
  {
   "cell_type": "markdown",
   "id": "0efd1042",
   "metadata": {},
   "source": [
    "# if-statement:"
   ]
  },
  {
   "cell_type": "markdown",
   "id": "64f9057b",
   "metadata": {},
   "source": [
    "these statements will print if the condition is true only, otherwise it exits the code loop.\n",
    "\n",
    "Syntax : if(# some conditions ):"
   ]
  },
  {
   "cell_type": "code",
   "execution_count": null,
   "id": "34daa699",
   "metadata": {},
   "outputs": [],
   "source": [
    "num = int(input())\n",
    "if num % 4==0 and num % 2 == 0:\n",
    "    print('div by 2')\n",
    "    \n",
    "    \n",
    "2    "
   ]
  },
  {
   "cell_type": "code",
   "execution_count": null,
   "id": "cd31d6ea",
   "metadata": {},
   "outputs": [],
   "source": [
    "num = int(input())\n",
    "if num % 3 == 0 and num % 2 == 0:       \n",
    "    print('div by 6') \n",
    "    \n",
    "    \n",
    "6\n",
    "div by 6"
   ]
  },
  {
   "cell_type": "markdown",
   "id": "aaa4f1d9",
   "metadata": {},
   "source": [
    "# nested-if statement:"
   ]
  },
  {
   "cell_type": "markdown",
   "id": "99010b62",
   "metadata": {},
   "source": [
    "if with in the if statements are called as nested-if statements. Code to execute when both condition1 and condition2 are true"
   ]
  },
  {
   "cell_type": "code",
   "execution_count": null,
   "id": "e3816e5b",
   "metadata": {},
   "outputs": [],
   "source": [
    "num = int(input())\n",
    "if num % 3 == 0:             # condition 1 is true only it enter into 2nd condition\n",
    "    if num % 2 == 0:          # condtion 2 is also satisfy, then goes to next line.\n",
    "        print('div by 6')\n",
    "        \n",
    "        \n",
    "5        "
   ]
  },
  {
   "cell_type": "code",
   "execution_count": null,
   "id": "b0278c61",
   "metadata": {},
   "outputs": [],
   "source": [
    "num = int(input())\n",
    "if num % 3 == 0:                 # condition 1 is false then it doesn't enter into 2nd condition\n",
    "    if num % 2 == 0:\n",
    "        print('div by 6')              # prints the input value if not satisfy both cases.\n",
    "\n",
    "        \n",
    "6\n",
    "div by 6"
   ]
  },
  {
   "cell_type": "markdown",
   "id": "86ffab9e",
   "metadata": {},
   "source": [
    "# if-else statement:"
   ]
  },
  {
   "cell_type": "markdown",
   "id": "f58cfb60",
   "metadata": {},
   "source": [
    "these statement will excute when if condition is false, then interpreter will come out of block of code. it is not necessary to write the else statement in each and every case. it depends upon the logic that we should have to give another condition to print about that condition."
   ]
  },
  {
   "cell_type": "code",
   "execution_count": null,
   "id": "61e293e3",
   "metadata": {},
   "outputs": [],
   "source": [
    "s = input('enter a string :')\n",
    "if ord(s[2]) in range(65, 91):\n",
    "    print('the thrid letter is upper case') \n",
    "else:\n",
    "    print('the third letter is not upper') \n",
    "    \n",
    "    \n",
    "    \n",
    "enter a string :bunny\n",
    "the third letter is not upper"
   ]
  },
  {
   "cell_type": "markdown",
   "id": "1daa83dd",
   "metadata": {},
   "source": [
    "# if-elif-else statement:"
   ]
  },
  {
   "cell_type": "markdown",
   "id": "9204ccfb",
   "metadata": {},
   "source": [
    "this checks if statements is false, then will give another condition statement other than if statement that may it will satisfy the condition. these type of condition called if-elif-else statements."
   ]
  },
  {
   "cell_type": "code",
   "execution_count": null,
   "id": "ec5d8d2e",
   "metadata": {},
   "outputs": [],
   "source": [
    "marks = float(input('enter your marks'))\n",
    "\n",
    "if marks >= 80:                # condition false and goes to check another condition.\n",
    "    print('second round')\n",
    "elif marks >=70:\n",
    "    print('first round')         # condition false and goes to check another condition.\n",
    "elif marks >= 60:\n",
    "    print('screening round')     # condition is true and prints it's below statement.\n",
    "else:\n",
    "    print('study hard')\n",
    "    \n",
    "    \n",
    "\n",
    "enter your marks90\n",
    "second round"
   ]
  },
  {
   "cell_type": "markdown",
   "id": "425325b7",
   "metadata": {},
   "source": [
    "# control flow statements:\n",
    "what are control flow statements ?\n",
    " control flow statements are nothing but, these keywords are used to help the flow of the control in code in our decided order.\n",
    "Types of control flow statements :\n",
    "pass\n",
    "continue\n",
    "Break.\n",
    "1) pass statement :\n",
    "this keyword/control statement is used in programming the code:\n",
    "when we are strucked at particular block of code and we know the next condition/ logic of the 2nd block code.\n",
    "its says that \" i will that i will keep the space for this block of code\"."
   ]
  },
  {
   "cell_type": "code",
   "execution_count": null,
   "id": "ab144101",
   "metadata": {},
   "outputs": [],
   "source": [
    "num = int(input())\n",
    "if num % 3 == 0:\n",
    "    pass                      # it will keep some memory to that if block and goes to the next line. \n",
    "    if num % 2 == 0:\n",
    "        print('div by 6')   \n",
    "        \n",
    "        \n",
    "        \n",
    "3"
   ]
  },
  {
   "cell_type": "markdown",
   "id": "88586087",
   "metadata": {},
   "source": [
    "2) Continue statement :\n",
    "this keyword/ control statement is used in programming the code as :\n",
    "it restarts the excution program again with value increased by '+1'."
   ]
  },
  {
   "cell_type": "code",
   "execution_count": null,
   "id": "5bb2d36b",
   "metadata": {},
   "outputs": [],
   "source": [
    "for i in range(1, 6):\n",
    "    if i % 2 == 0:\n",
    "        continue           # starts the next iteration by increasing value +1.\n",
    "    else:\n",
    "        print(f'current value of i is : {i}')\n",
    "        \n",
    "        \n",
    "current value of i is : 1\n",
    "current value of i is : 3\n",
    "current value of i is : 5"
   ]
  },
  {
   "cell_type": "markdown",
   "id": "00ec171c",
   "metadata": {},
   "source": [
    " # While looping statements :\n",
    "What is a while loop ?\n",
    "it's a block of code, it runs until it meet the condition = true.\n",
    "*These type of looping statements are called as while looping statements.\n",
    "if condition = false, then it stops the program excution."
   ]
  },
  {
   "cell_type": "code",
   "execution_count": null,
   "id": "43fbd830",
   "metadata": {},
   "outputs": [],
   "source": []
  }
 ],
 "metadata": {
  "kernelspec": {
   "display_name": "Python 3 (ipykernel)",
   "language": "python",
   "name": "python3"
  },
  "language_info": {
   "codemirror_mode": {
    "name": "ipython",
    "version": 3
   },
   "file_extension": ".py",
   "mimetype": "text/x-python",
   "name": "python",
   "nbconvert_exporter": "python",
   "pygments_lexer": "ipython3",
   "version": "3.11.5"
  }
 },
 "nbformat": 4,
 "nbformat_minor": 5
}
